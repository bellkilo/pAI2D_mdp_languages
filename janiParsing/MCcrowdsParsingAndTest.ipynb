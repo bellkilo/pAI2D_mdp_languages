{
 "cells": [
  {
   "cell_type": "code",
   "id": "initial_id",
   "metadata": {
    "collapsed": true,
    "ExecuteTime": {
     "end_time": "2025-03-24T22:39:27.217108Z",
     "start_time": "2025-03-24T22:39:26.741731Z"
    }
   },
   "source": [
    "# import library\n",
    "import json\n",
    "from copy import deepcopy\n",
    "\n",
    "import numpy as np\n",
    "import marmote.core as mc\n",
    "import marmote.markovchain as mmc\n",
    "import networkx as nx"
   ],
   "outputs": [],
   "execution_count": 1
  },
  {
   "metadata": {
    "ExecuteTime": {
     "end_time": "2025-03-24T22:40:04.660171Z",
     "start_time": "2025-03-24T22:40:04.655065Z"
    }
   },
   "cell_type": "code",
   "source": [
    "# read jani file\n",
    "jani_file = \"crowds.jani\"\n",
    "\n",
    "with open(jani_file, 'r', encoding='utf-8') as f:\n",
    "    jani_data = json.load(f)"
   ],
   "id": "c86f18464186450e",
   "outputs": [],
   "execution_count": 2
  },
  {
   "metadata": {
    "ExecuteTime": {
     "end_time": "2025-03-24T22:40:14.724847Z",
     "start_time": "2025-03-24T22:40:14.720839Z"
    }
   },
   "cell_type": "code",
   "source": [
    "# list of variables\n",
    "variables = jani_data[\"variables\"]\n",
    "dim = len(variables)\n",
    "varDict = {}\n",
    "for k, var in enumerate(variables):\n",
    "    varDict[var['name']] = k\n",
    "\n",
    "print(varDict)"
   ],
   "id": "a1de0c5ca0e700c5",
   "outputs": [
    {
     "name": "stdout",
     "output_type": "stream",
     "text": [
      "{'runCount': 0, 'lastSeen': 1, 'observe0': 2, 'observe1': 3, 'observe2': 4, 'observe3': 5, 'observe4': 6, 'observe5': 7, 'observe6': 8, 'observe7': 9, 'observe8': 10, 'observe9': 11, 'observe10': 12, 'observe11': 13, 'observe12': 14, 'observe13': 15, 'observe14': 16, 'observe15': 17, 'observe16': 18, 'observe17': 19, 'observe18': 20, 'observe19': 21, 'launch': 22, 'new': 23, 'start': 24, 'run': 25, 'good': 26, 'bad': 27, 'recordLast': 28, 'badObserve': 29, 'deliver': 30, 'done': 31}\n"
     ]
    }
   ],
   "execution_count": 3
  },
  {
   "metadata": {
    "ExecuteTime": {
     "end_time": "2025-03-24T23:37:50.569875Z",
     "start_time": "2025-03-24T23:37:50.562698Z"
    }
   },
   "cell_type": "code",
   "source": [
    "class Data:\n",
    "    def __init__(self, jani_data):\n",
    "        self.jani_data = jani_data\n",
    "        self.variables = jani_data[\"variables\"]\n",
    "        self.varDict = {}\n",
    "        for k, var in enumerate(self.variables):\n",
    "            self.varDict[var['name']] = k\n",
    "        self.constants = jani_data[\"constants\"]\n",
    "        self.constDict = {}\n",
    "        for k, const in enumerate(self.constants):\n",
    "            self.constDict[const['name']] = k\n",
    "        \n",
    "        #asseignment for two constants\n",
    "        self.constants[2][\"value\"] = 3\n",
    "        self.constants[3][\"value\"] = 5\n",
    "            \n",
    "    def getVariableType(self, variable):\n",
    "        idx = self.varDict[variable]\n",
    "        type = variables[idx]['type']\n",
    "        if type == 'bool':\n",
    "            return 'bool'\n",
    "        else:\n",
    "            return type[\"base\"]\n",
    "        \n",
    "    def getVariableIdx(self, variable):\n",
    "        return self.varDict[variable]\n",
    "    \n",
    "    def getConstantValue(self, const):\n",
    "        idx = self.constDict[const]\n",
    "        return self.constants[idx]['value']\n",
    "        \n",
    "data = Data(jani_data)\n",
    "data.getVariableType(\"launch\")\n",
    "data.getConstantValue(\"badC\")\n",
    "data.getConstantValue(\"TotalRuns\")"
   ],
   "id": "b9622d2f907b21ce",
   "outputs": [
    {
     "data": {
      "text/plain": [
       "3"
      ]
     },
     "execution_count": 29,
     "metadata": {},
     "output_type": "execute_result"
    }
   ],
   "execution_count": 29
  },
  {
   "metadata": {
    "ExecuteTime": {
     "end_time": "2025-03-24T23:45:52.163208Z",
     "start_time": "2025-03-24T23:45:52.157693Z"
    }
   },
   "cell_type": "code",
   "source": [
    "def satisfyExpression(exp, node):\n",
    "    if isinstance(exp, str):\n",
    "        if data.getVariableType(exp) == 'bool':\n",
    "            idx = data.getVariableIdx(exp)\n",
    "            return node[idx]\n",
    "    if exp['op'] == '∧':\n",
    "        return satisfyExpression(exp['left'], node) and satisfyExpression(exp['right'], node)\n",
    "    idx = data.getVariableIdx(exp['left'])\n",
    "    if exp['op'] == '=':\n",
    "        return calValue(node[idx]) == calValue(exp['right'])\n",
    "    elif exp['op'] == '<':\n",
    "        return calValue(node[idx]) < calValue(exp['right'])\n",
    "    elif exp['op'] == '>':\n",
    "        return calValue(node[idx]) > calValue(exp['right'])"
   ],
   "id": "62fc9bcf0d7b5bcd",
   "outputs": [],
   "execution_count": 32
  },
  {
   "metadata": {
    "ExecuteTime": {
     "end_time": "2025-03-24T23:12:04.233115Z",
     "start_time": "2025-03-24T23:12:04.229600Z"
    }
   },
   "cell_type": "code",
   "source": "root = tuple(var['initial-value'] for var in variables)",
   "id": "8db3112ed4ce8eb2",
   "outputs": [],
   "execution_count": 19
  },
  {
   "metadata": {},
   "cell_type": "code",
   "outputs": [],
   "execution_count": null,
   "source": "constants = jani_data[\"constants\"]",
   "id": "596fb39c313da345"
  },
  {
   "metadata": {
    "ExecuteTime": {
     "end_time": "2025-03-24T23:38:58.523479Z",
     "start_time": "2025-03-24T23:38:58.519723Z"
    }
   },
   "cell_type": "code",
   "source": [
    "def calValue(value):\n",
    "    if isinstance(value, int) or isinstance(value, float) or isinstance(value, bool):\n",
    "        return value\n",
    "    if isinstance(value, str):\n",
    "        return data.getConstantValue(value)\n",
    "    else:\n",
    "        if value[\"op\"] == \"+\":\n",
    "            \n",
    "        elif value[\"op\"] == \"-\":\n",
    "            "
   ],
   "id": "e0acfa46811b5638",
   "outputs": [],
   "execution_count": 30
  },
  {
   "metadata": {
    "ExecuteTime": {
     "end_time": "2025-03-24T23:45:54.311522Z",
     "start_time": "2025-03-24T23:45:54.266624Z"
    }
   },
   "cell_type": "code",
   "source": [
    "openNode = [root]\n",
    "closedNode = []\n",
    "\n",
    "G = nx.DiGraph()\n",
    "automata = jani_data[\"automata\"]\n",
    "edges = automata[0][\"edges\"]\n",
    "while openNode:\n",
    "    x = openNode.pop(0)\n",
    "    for edge in edges:\n",
    "        guard = edge['guard']['exp']\n",
    "        if satisfyExpression(guard, x):\n",
    "            closedNode.append(x)\n",
    "            nbdest = 0\n",
    "            for dest in edge[\"destinations\"]:\n",
    "                nbdest += 1\n",
    "                print('nbdest : ',nbdest)\n",
    "                newNode = deepcopy(x)\n",
    "                for assignment in dest[\"assignments\"]:\n",
    "                    idx = varDict[assignment['ref']]\n",
    "                    print('x: ', x)\n",
    "                    newNode = newNode[:idx]+(assignment['value'],)+newNode[idx+1:]\n",
    "                print('newNode: ', newNode)\n",
    "                if not newNode in openNode and not newNode in closedNode:\n",
    "                    openNode.append(newNode)\n",
    "                try:\n",
    "                    val = dest[\"probability\"][\"exp\"]\n",
    "                except KeyError:\n",
    "                    val = 1\n",
    "                print('val: ', val)\n",
    "                G.add_edge(x, newNode, weight=val)\n",
    "\n",
    "            break\n",
    "        else:\n",
    "            continue\n",
    "\n",
    "print(closedNode)"
   ],
   "id": "44ac868e53588325",
   "outputs": [
    {
     "name": "stdout",
     "output_type": "stream",
     "text": [
      "nbdest :  1\n",
      "x:  ('TotalRuns', 20, 0, 0, 0, 0, 0, 0, 0, 0, 0, 0, 0, 0, 0, 0, 0, 0, 0, 0, 0, 0, True, False, False, False, False, False, False, False, False, False)\n",
      "x:  ('TotalRuns', 20, 0, 0, 0, 0, 0, 0, 0, 0, 0, 0, 0, 0, 0, 0, 0, 0, 0, 0, 0, 0, True, False, False, False, False, False, False, False, False, False)\n",
      "x:  ('TotalRuns', 20, 0, 0, 0, 0, 0, 0, 0, 0, 0, 0, 0, 0, 0, 0, 0, 0, 0, 0, 0, 0, True, False, False, False, False, False, False, False, False, False)\n",
      "newNode:  ('TotalRuns', 20, 0, 0, 0, 0, 0, 0, 0, 0, 0, 0, 0, 0, 0, 0, 0, 0, 0, 0, 0, 0, False, True, False, False, False, False, False, False, False, False)\n",
      "val:  1\n",
      "nbdest :  1\n",
      "x:  ('TotalRuns', 20, 0, 0, 0, 0, 0, 0, 0, 0, 0, 0, 0, 0, 0, 0, 0, 0, 0, 0, 0, 0, False, True, False, False, False, False, False, False, False, False)\n",
      "x:  ('TotalRuns', 20, 0, 0, 0, 0, 0, 0, 0, 0, 0, 0, 0, 0, 0, 0, 0, 0, 0, 0, 0, 0, False, True, False, False, False, False, False, False, False, False)\n",
      "x:  ('TotalRuns', 20, 0, 0, 0, 0, 0, 0, 0, 0, 0, 0, 0, 0, 0, 0, 0, 0, 0, 0, 0, 0, False, True, False, False, False, False, False, False, False, False)\n",
      "newNode:  ({'left': 'runCount', 'op': '-', 'right': 1}, 20, 0, 0, 0, 0, 0, 0, 0, 0, 0, 0, 0, 0, 0, 0, 0, 0, 0, 0, 0, 0, False, False, True, False, False, False, False, False, False, False)\n",
      "val:  1\n"
     ]
    },
    {
     "ename": "TypeError",
     "evalue": "unhashable type: 'dict'",
     "output_type": "error",
     "traceback": [
      "\u001B[1;31m---------------------------------------------------------------------------\u001B[0m",
      "\u001B[1;31mTypeError\u001B[0m                                 Traceback (most recent call last)",
      "Cell \u001B[1;32mIn[33], line 30\u001B[0m\n\u001B[0;32m     28\u001B[0m             val \u001B[38;5;241m=\u001B[39m \u001B[38;5;241m1\u001B[39m\n\u001B[0;32m     29\u001B[0m         \u001B[38;5;28mprint\u001B[39m(\u001B[38;5;124m'\u001B[39m\u001B[38;5;124mval: \u001B[39m\u001B[38;5;124m'\u001B[39m, val)\n\u001B[1;32m---> 30\u001B[0m         \u001B[43mG\u001B[49m\u001B[38;5;241;43m.\u001B[39;49m\u001B[43madd_edge\u001B[49m\u001B[43m(\u001B[49m\u001B[43mx\u001B[49m\u001B[43m,\u001B[49m\u001B[43m \u001B[49m\u001B[43mnewNode\u001B[49m\u001B[43m,\u001B[49m\u001B[43m \u001B[49m\u001B[43mweight\u001B[49m\u001B[38;5;241;43m=\u001B[39;49m\u001B[43mval\u001B[49m\u001B[43m)\u001B[49m\n\u001B[0;32m     32\u001B[0m     \u001B[38;5;28;01mbreak\u001B[39;00m\n\u001B[0;32m     33\u001B[0m \u001B[38;5;28;01melse\u001B[39;00m:\n",
      "File \u001B[1;32m~\\anaconda3\\envs\\marmote-use\\Lib\\site-packages\\networkx\\classes\\digraph.py:706\u001B[0m, in \u001B[0;36mDiGraph.add_edge\u001B[1;34m(self, u_of_edge, v_of_edge, **attr)\u001B[0m\n\u001B[0;32m    704\u001B[0m     \u001B[38;5;28mself\u001B[39m\u001B[38;5;241m.\u001B[39m_pred[u] \u001B[38;5;241m=\u001B[39m \u001B[38;5;28mself\u001B[39m\u001B[38;5;241m.\u001B[39madjlist_inner_dict_factory()\n\u001B[0;32m    705\u001B[0m     \u001B[38;5;28mself\u001B[39m\u001B[38;5;241m.\u001B[39m_node[u] \u001B[38;5;241m=\u001B[39m \u001B[38;5;28mself\u001B[39m\u001B[38;5;241m.\u001B[39mnode_attr_dict_factory()\n\u001B[1;32m--> 706\u001B[0m \u001B[38;5;28;01mif\u001B[39;00m \u001B[43mv\u001B[49m\u001B[43m \u001B[49m\u001B[38;5;129;43;01mnot\u001B[39;49;00m\u001B[43m \u001B[49m\u001B[38;5;129;43;01min\u001B[39;49;00m\u001B[43m \u001B[49m\u001B[38;5;28;43mself\u001B[39;49m\u001B[38;5;241;43m.\u001B[39;49m\u001B[43m_succ\u001B[49m:\n\u001B[0;32m    707\u001B[0m     \u001B[38;5;28;01mif\u001B[39;00m v \u001B[38;5;129;01mis\u001B[39;00m \u001B[38;5;28;01mNone\u001B[39;00m:\n\u001B[0;32m    708\u001B[0m         \u001B[38;5;28;01mraise\u001B[39;00m \u001B[38;5;167;01mValueError\u001B[39;00m(\u001B[38;5;124m\"\u001B[39m\u001B[38;5;124mNone cannot be a node\u001B[39m\u001B[38;5;124m\"\u001B[39m)\n",
      "\u001B[1;31mTypeError\u001B[0m: unhashable type: 'dict'"
     ]
    }
   ],
   "execution_count": 33
  },
  {
   "metadata": {},
   "cell_type": "code",
   "outputs": [],
   "execution_count": null,
   "source": "",
   "id": "2ba4d9eeb60cce53"
  }
 ],
 "metadata": {
  "kernelspec": {
   "display_name": "Python 3",
   "language": "python",
   "name": "python3"
  },
  "language_info": {
   "codemirror_mode": {
    "name": "ipython",
    "version": 2
   },
   "file_extension": ".py",
   "mimetype": "text/x-python",
   "name": "python",
   "nbconvert_exporter": "python",
   "pygments_lexer": "ipython2",
   "version": "2.7.6"
  }
 },
 "nbformat": 4,
 "nbformat_minor": 5
}
