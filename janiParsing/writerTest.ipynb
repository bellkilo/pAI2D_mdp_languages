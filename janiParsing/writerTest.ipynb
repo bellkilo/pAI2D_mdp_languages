{
 "cells": [
  {
   "cell_type": "code",
   "id": "initial_id",
   "metadata": {
    "collapsed": true,
    "ExecuteTime": {
     "end_time": "2025-03-31T18:55:36.819414Z",
     "start_time": "2025-03-31T18:55:36.816035Z"
    }
   },
   "source": [
    "import marmote.core as mc\n",
    "import marmote.mdp as md"
   ],
   "outputs": [],
   "execution_count": 12
  },
  {
   "metadata": {
    "ExecuteTime": {
     "end_time": "2025-03-31T18:55:36.835335Z",
     "start_time": "2025-03-31T18:55:36.831204Z"
    }
   },
   "cell_type": "code",
   "source": [
    "dim_SS = 4 # dimension of the state space\n",
    "dim_AS = 3 # dimension of the action space\n",
    "\n",
    "stateSpace =  mc.MarmoteInterval(0,3)\n",
    "actionSpace =  mc.MarmoteInterval(0,2)"
   ],
   "id": "d2d602d0620155df",
   "outputs": [],
   "execution_count": 13
  },
  {
   "metadata": {
    "ExecuteTime": {
     "end_time": "2025-03-31T18:55:36.848963Z",
     "start_time": "2025-03-31T18:55:36.842815Z"
    }
   },
   "cell_type": "code",
   "source": [
    "# matrix for the a_0 action\n",
    "P0 = mc.SparseMatrix(dim_SS)\n",
    "\n",
    "P0.setEntry(0,1,0.875)\n",
    "P0.setEntry(0,2,0.0625)\n",
    "P0.setEntry(0,3,0.0625)\n",
    "P0.setEntry(1,1,0.75)\n",
    "P0.setEntry(1,2,0.125)\n",
    "P0.setEntry(1,3,0.125)\n",
    "P0.setEntry(2,2,0.5)\n",
    "P0.setEntry(2,3,0.5)\n",
    "P0.setEntry(3,3,1.0)\n",
    "\n",
    "P1 =  mc.SparseMatrix(dim_SS)\n",
    "P1.setEntry(0,1,0.875)\n",
    "P1.setEntry(0,2,0.0625)\n",
    "P1.setEntry(0,3,0.0625)\n",
    "P1.setEntry(1,1,0.75)\n",
    "P1.setEntry(1,2,0.125)\n",
    "P1.setEntry(1,3,0.125)\n",
    "P1.setEntry(2,1,1.0)\n",
    "P1.setEntry(3,3,1.0)\n",
    "\n",
    "P2 =  mc.SparseMatrix(dim_SS)\n",
    "P2.setEntry(0,1,0.875)\n",
    "P2.setEntry(0,2,0.0625)\n",
    "P2.setEntry(0,3,0.0625)\n",
    "P2.setEntry(1,0,1.0)\n",
    "P2.setEntry(2,0,1.0)\n",
    "P2.setEntry(3,0,1.0)\n",
    "\n",
    "trans = [P0, P1, P2]"
   ],
   "id": "66f4f59506d18b0f",
   "outputs": [],
   "execution_count": 14
  },
  {
   "metadata": {
    "ExecuteTime": {
     "end_time": "2025-03-31T18:55:36.885322Z",
     "start_time": "2025-03-31T18:55:36.879134Z"
    }
   },
   "cell_type": "code",
   "source": [
    "Reward  =  mc.FullMatrix(dim_SS, dim_AS)\n",
    "Reward.setEntry(0,0,0)\n",
    "Reward.setEntry(0,1,4000)\n",
    "Reward.setEntry(0,2,6000)\n",
    "Reward.setEntry(1,0,1000)\n",
    "Reward.setEntry(1,1,4000)\n",
    "Reward.setEntry(1,2,6000)\n",
    "Reward.setEntry(2,0,3000)\n",
    "Reward.setEntry(2,1,4000)\n",
    "Reward.setEntry(2,2,6000)\n",
    "Reward.setEntry(3,0,3000)\n",
    "Reward.setEntry(3,1,4000)\n",
    "Reward.setEntry(3,2,6000)"
   ],
   "id": "c73be0339bd7deab",
   "outputs": [
    {
     "data": {
      "text/plain": [
       "True"
      ]
     },
     "execution_count": 15,
     "metadata": {},
     "output_type": "execute_result"
    }
   ],
   "execution_count": 15
  },
  {
   "metadata": {
    "ExecuteTime": {
     "end_time": "2025-03-31T18:55:36.971927Z",
     "start_time": "2025-03-31T18:55:36.968755Z"
    }
   },
   "cell_type": "code",
   "source": [
    "criterion=\"min\"\n",
    "\n",
    "mdp1 =  md.AverageMDP(criterion, stateSpace, actionSpace, trans, Reward)"
   ],
   "id": "8fafeb33972f3de9",
   "outputs": [],
   "execution_count": 16
  },
  {
   "metadata": {
    "ExecuteTime": {
     "end_time": "2025-03-31T18:55:36.997849Z",
     "start_time": "2025-03-31T18:55:36.993539Z"
    }
   },
   "cell_type": "code",
   "source": "print(mdp1)",
   "id": "c46202c561bf27f8",
   "outputs": [
    {
     "name": "stdout",
     "output_type": "stream",
     "text": [
      "\n"
     ]
    }
   ],
   "execution_count": 17
  },
  {
   "metadata": {
    "ExecuteTime": {
     "end_time": "2025-03-31T18:55:37.107759Z",
     "start_time": "2025-03-31T18:55:37.102730Z"
    }
   },
   "cell_type": "code",
   "source": "mdp1.toString()",
   "id": "87e2f4d0e4cf386c",
   "outputs": [
    {
     "data": {
      "text/plain": [
       "''"
      ]
     },
     "execution_count": 18,
     "metadata": {},
     "output_type": "execute_result"
    }
   ],
   "execution_count": 18
  },
  {
   "metadata": {
    "ExecuteTime": {
     "end_time": "2025-03-31T19:07:07.009848Z",
     "start_time": "2025-03-31T19:07:07.005982Z"
    }
   },
   "cell_type": "code",
   "source": "stateSpace.Cardinal()",
   "id": "5ff7427d8d125431",
   "outputs": [
    {
     "data": {
      "text/plain": [
       "4"
      ]
     },
     "execution_count": 22,
     "metadata": {},
     "output_type": "execute_result"
    }
   ],
   "execution_count": 22
  },
  {
   "metadata": {
    "ExecuteTime": {
     "end_time": "2025-03-31T21:13:52.786332Z",
     "start_time": "2025-03-31T21:13:52.775422Z"
    }
   },
   "cell_type": "code",
   "source": [
    "import json\n",
    "import os\n",
    "\n",
    "def create_jani_model(criterion, trans, reward=None):\n",
    "    if isinstance(trans, list):\n",
    "        num_states = trans[0].size()\n",
    "        num_actions = len(trans)\n",
    "    else:\n",
    "        num_states = trans.size()\n",
    "        num_actions = 1\n",
    "    \n",
    "    model = {\n",
    "        \"jani-version\": 1,\n",
    "        \"name\": \"MDP Model\",\n",
    "        \"type\": \"mdp\",\n",
    "        \"features\": [\"rewards\"],\n",
    "        \"variables\": [\n",
    "            {\n",
    "                \"name\": \"x\",\n",
    "                \"type\": {\n",
    "                    \"kind\": \"bounded\",\n",
    "                    \"base\": \"int\",\n",
    "                    \"lower-bound\": 0,\n",
    "                    \"upper-bound\": num_states-1\n",
    "                },\n",
    "                \"initial-value\": 0\n",
    "            }\n",
    "        ],\n",
    "        \"actions\": [\n",
    "            {\"name\": f\"action{i}\"} for i in range(num_actions)\n",
    "        ],\n",
    "        \"automata\": [{\n",
    "            \"name\": \"MDPProcess\",\n",
    "            \"locations\": [{\"name\": \"loc0\"}],\n",
    "            \"initial-locations\": [\"loc0\"],\n",
    "            \"edges\": []\n",
    "        }],\n",
    "        \"properties\": [\n",
    "            {\"name\": \"expected_reward\", \"expression\": \"R{\\\"time\\\"}min=? [F \\\"final\\\"]\"}\n",
    "        ],\n",
    "        \"system\": {\n",
    "            \"elements\": [\n",
    "                {\n",
    "                    \"automaton\": \"MDPProcess\"\n",
    "                }]\n",
    "        },\n",
    "        \"criterion\": criterion\n",
    "    }\n",
    "    \n",
    "    automaton = model[\"automata\"][0]\n",
    "    \n",
    "    for a in range(num_actions):\n",
    "        for i in range(num_states):\n",
    "            \n",
    "            destinations = []\n",
    "            for j in range(num_states):\n",
    "                if isinstance(trans, list):\n",
    "                    prob = trans[a].getEntry(i, j)\n",
    "                else:\n",
    "                    prob = trans.getEntry(i, j)\n",
    "                if prob > 0:\n",
    "                    if reward is not None:\n",
    "                        reward_value = reward.getEntry(i, a)\n",
    "                    else: reward_value = 0\n",
    "                    destinations.append({\n",
    "                        \"location\": \"loc0\",\n",
    "                        \"probability\": {\n",
    "                            \"exp\": prob\n",
    "                        },\n",
    "                        \"assignments\": [\n",
    "                            {\n",
    "                                \"ref\": \"x\",\n",
    "                                \"value\": j\n",
    "                            }\n",
    "                        ],\n",
    "                        \"rewards\": reward_value\n",
    "                    })\n",
    "            automaton[\"edges\"].append({\n",
    "                \"location\": \"loc0\",\n",
    "                \"action\": f\"act{a}\",\n",
    "                \"guard\":{\n",
    "                          \"exp\": {\n",
    "                              \"op\": \"=\",\n",
    "                              \"left\": \"x\",\n",
    "                              \"right\": i\n",
    "                          }  \n",
    "                        },\n",
    "                \"destinations\": destinations\n",
    "            })\n",
    "    \n",
    "    return model\n",
    "\n",
    "def save_jani_model_to_file(model, filename):\n",
    "    filename =  f\"{filename}.janiR\"\n",
    "    counter = 1\n",
    "    while os.path.exists(filename):\n",
    "        filename = f\"{filename.split('.')[0]}_{counter}.janiR\"\n",
    "        counter += 1\n",
    "    \n",
    "    jani_content = json.dumps(model, indent=2)\n",
    "    \n",
    "    with open(filename, 'w') as file:\n",
    "        file.write(jani_content)\n",
    "    print(f\"Model saved as {filename}\")\n",
    "\n",
    "criterion = \"minimize\"\n",
    "state_space = stateSpace\n",
    "action_space = actionSpace\n",
    "trans = trans\n",
    "reward = Reward\n",
    "\n",
    "model = create_jani_model(\"minimize\", trans, reward)\n",
    "\n",
    "save_jani_model_to_file(model, 'output_jani_model')"
   ],
   "id": "820a07f3489ba880",
   "outputs": [
    {
     "name": "stdout",
     "output_type": "stream",
     "text": [
      "Model saved as output_jani_model.janiR\n"
     ]
    }
   ],
   "execution_count": 40
  },
  {
   "metadata": {
    "ExecuteTime": {
     "end_time": "2025-03-31T21:36:04.812909Z",
     "start_time": "2025-03-31T21:36:04.807664Z"
    }
   },
   "cell_type": "code",
   "source": "len(trans)",
   "id": "260042a816c99166",
   "outputs": [
    {
     "data": {
      "text/plain": [
       "3"
      ]
     },
     "execution_count": 41,
     "metadata": {},
     "output_type": "execute_result"
    }
   ],
   "execution_count": 41
  },
  {
   "metadata": {
    "ExecuteTime": {
     "end_time": "2025-03-31T21:40:53.169274Z",
     "start_time": "2025-03-31T21:40:53.165462Z"
    }
   },
   "cell_type": "code",
   "source": "P0.size()",
   "id": "b69ebbd089ae59b2",
   "outputs": [
    {
     "data": {
      "text/plain": [
       "4"
      ]
     },
     "execution_count": 42,
     "metadata": {},
     "output_type": "execute_result"
    }
   ],
   "execution_count": 42
  },
  {
   "metadata": {},
   "cell_type": "code",
   "outputs": [],
   "execution_count": null,
   "source": "",
   "id": "c4338e6c7d6c72bf"
  }
 ],
 "metadata": {
  "kernelspec": {
   "display_name": "Python 3",
   "language": "python",
   "name": "python3"
  },
  "language_info": {
   "codemirror_mode": {
    "name": "ipython",
    "version": 2
   },
   "file_extension": ".py",
   "mimetype": "text/x-python",
   "name": "python",
   "nbconvert_exporter": "python",
   "pygments_lexer": "ipython2",
   "version": "2.7.6"
  }
 },
 "nbformat": 4,
 "nbformat_minor": 5
}
