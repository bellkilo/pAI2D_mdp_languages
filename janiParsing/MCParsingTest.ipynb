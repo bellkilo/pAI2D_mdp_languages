{
 "cells": [
  {
   "cell_type": "code",
   "id": "initial_id",
   "metadata": {
    "collapsed": true,
    "ExecuteTime": {
     "end_time": "2025-03-23T14:18:38.360251Z",
     "start_time": "2025-03-23T14:18:38.346858Z"
    }
   },
   "source": [
    "# import library\n",
    "import json\n",
    "from copy import deepcopy\n",
    "\n",
    "import numpy as np\n",
    "import marmote.core as mc\n",
    "import marmote.markovchain as mmc\n",
    "import networkx as nx\n"
   ],
   "outputs": [],
   "execution_count": 208
  },
  {
   "metadata": {
    "ExecuteTime": {
     "end_time": "2025-03-23T14:18:38.406121Z",
     "start_time": "2025-03-23T14:18:38.398958Z"
    }
   },
   "cell_type": "code",
   "source": [
    "# read jani file\n",
    "jani_file = \"die.jani\"\n",
    "\n",
    "with open(jani_file, 'r', encoding='utf-8') as f:\n",
    "    jani_data = json.load(f)"
   ],
   "id": "9e70c299d9d252ed",
   "outputs": [],
   "execution_count": 209
  },
  {
   "metadata": {
    "ExecuteTime": {
     "end_time": "2025-03-23T14:18:38.436713Z",
     "start_time": "2025-03-23T14:18:38.429941Z"
    }
   },
   "cell_type": "code",
   "source": [
    "# list of variables\n",
    "variables = jani_data[\"variables\"]\n",
    "dim = len(variables)\n",
    "varDict = {}\n",
    "for k, var in enumerate(variables):\n",
    "    varDict[var['name']] = k\n",
    "\n",
    "print(varDict)"
   ],
   "id": "639c00060f597868",
   "outputs": [
    {
     "name": "stdout",
     "output_type": "stream",
     "text": [
      "{'s': 0, 'd': 1}\n"
     ]
    }
   ],
   "execution_count": 210
  },
  {
   "metadata": {
    "ExecuteTime": {
     "end_time": "2025-03-23T14:18:38.488749Z",
     "start_time": "2025-03-23T14:18:38.480430Z"
    }
   },
   "cell_type": "code",
   "source": [
    "def satisfyExpression(exp, node):\n",
    "    if exp['op'] == '∧':\n",
    "        return satisfyExpression(exp['left'], node) and satisfyExpression(exp['right'], node)\n",
    "    idx = varDict[exp['left']]\n",
    "    if exp['op'] == '=':\n",
    "        return node[idx] == exp['right']\n",
    "    elif exp['op'] == '<':\n",
    "        return node[idx] < exp['right']\n",
    "    elif exp['op'] == '>':\n",
    "        return node[idx] > exp['right']"
   ],
   "id": "ab00cacb15af6cb7",
   "outputs": [],
   "execution_count": 211
  },
  {
   "metadata": {
    "ExecuteTime": {
     "end_time": "2025-03-23T14:18:38.595096Z",
     "start_time": "2025-03-23T14:18:38.577542Z"
    }
   },
   "cell_type": "code",
   "source": [
    "root = None\n",
    "root = tuple(var['initial-value'] for var in variables)\n",
    "\n",
    "openNode = [root]\n",
    "closedNode = []\n",
    "\n",
    "G = nx.DiGraph()\n",
    "automata = jani_data[\"automata\"]\n",
    "edges = automata[0][\"edges\"]\n",
    "while openNode:\n",
    "    x = openNode.pop(0)\n",
    "    for edge in edges:\n",
    "        guard = edge['guard']['exp']\n",
    "        if satisfyExpression(guard, x):\n",
    "            closedNode.append(x)\n",
    "            nbdest = 0\n",
    "            for dest in edge[\"destinations\"]:\n",
    "                nbdest += 1\n",
    "                print('nbdest : ',nbdest)\n",
    "                newNode = deepcopy(x)\n",
    "                for assignment in dest[\"assignments\"]:\n",
    "                    idx = varDict[assignment['ref']]\n",
    "                    print('x: ', x)\n",
    "                    newNode = newNode[:idx]+(assignment['value'],)+newNode[idx+1:]\n",
    "                print('newNode: ', newNode)\n",
    "                if not newNode in openNode and not newNode in closedNode:\n",
    "                    openNode.append(newNode)\n",
    "                try:\n",
    "                    val = dest[\"probability\"][\"exp\"]\n",
    "                except KeyError:\n",
    "                    val = 1\n",
    "                print('val: ', val)\n",
    "                G.add_edge(x, newNode, weight=val)\n",
    "\n",
    "            break\n",
    "        else:\n",
    "            continue\n",
    "\n",
    "print(closedNode)"
   ],
   "id": "38c615d05d8bcdd1",
   "outputs": [
    {
     "name": "stdout",
     "output_type": "stream",
     "text": [
      "nbdest :  1\n",
      "x:  (0, 0)\n",
      "newNode:  (1, 0)\n",
      "val:  0.5\n",
      "nbdest :  2\n",
      "x:  (0, 0)\n",
      "newNode:  (2, 0)\n",
      "val:  0.5\n",
      "nbdest :  1\n",
      "x:  (1, 0)\n",
      "newNode:  (3, 0)\n",
      "val:  0.5\n",
      "nbdest :  2\n",
      "x:  (1, 0)\n",
      "newNode:  (4, 0)\n",
      "val:  0.5\n",
      "nbdest :  1\n",
      "x:  (2, 0)\n",
      "newNode:  (5, 0)\n",
      "val:  0.5\n",
      "nbdest :  2\n",
      "x:  (2, 0)\n",
      "newNode:  (6, 0)\n",
      "val:  0.5\n",
      "nbdest :  1\n",
      "x:  (3, 0)\n",
      "newNode:  (1, 0)\n",
      "val:  0.5\n",
      "nbdest :  2\n",
      "x:  (3, 0)\n",
      "x:  (3, 0)\n",
      "newNode:  (7, 1)\n",
      "val:  0.5\n",
      "nbdest :  1\n",
      "x:  (4, 0)\n",
      "x:  (4, 0)\n",
      "newNode:  (7, 2)\n",
      "val:  0.5\n",
      "nbdest :  2\n",
      "x:  (4, 0)\n",
      "x:  (4, 0)\n",
      "newNode:  (7, 3)\n",
      "val:  0.5\n",
      "nbdest :  1\n",
      "x:  (5, 0)\n",
      "x:  (5, 0)\n",
      "newNode:  (7, 4)\n",
      "val:  0.5\n",
      "nbdest :  2\n",
      "x:  (5, 0)\n",
      "x:  (5, 0)\n",
      "newNode:  (7, 5)\n",
      "val:  0.5\n",
      "nbdest :  1\n",
      "x:  (6, 0)\n",
      "newNode:  (2, 0)\n",
      "val:  0.5\n",
      "nbdest :  2\n",
      "x:  (6, 0)\n",
      "x:  (6, 0)\n",
      "newNode:  (7, 6)\n",
      "val:  0.5\n",
      "nbdest :  1\n",
      "x:  (7, 1)\n",
      "newNode:  (7, 1)\n",
      "val:  1\n",
      "nbdest :  1\n",
      "x:  (7, 2)\n",
      "newNode:  (7, 2)\n",
      "val:  1\n",
      "nbdest :  1\n",
      "x:  (7, 3)\n",
      "newNode:  (7, 3)\n",
      "val:  1\n",
      "nbdest :  1\n",
      "x:  (7, 4)\n",
      "newNode:  (7, 4)\n",
      "val:  1\n",
      "nbdest :  1\n",
      "x:  (7, 5)\n",
      "newNode:  (7, 5)\n",
      "val:  1\n",
      "nbdest :  1\n",
      "x:  (7, 6)\n",
      "newNode:  (7, 6)\n",
      "val:  1\n",
      "[(0, 0), (1, 0), (2, 0), (3, 0), (4, 0), (5, 0), (6, 0), (7, 1), (7, 2), (7, 3), (7, 4), (7, 5), (7, 6)]\n"
     ]
    }
   ],
   "execution_count": 212
  },
  {
   "metadata": {
    "ExecuteTime": {
     "end_time": "2025-03-23T14:18:38.658759Z",
     "start_time": "2025-03-23T14:18:38.646340Z"
    }
   },
   "cell_type": "code",
   "source": [
    "nodes = sorted(list(G.nodes()))\n",
    "edges = [(u,v, G[u][v]['weight']) for u, v in G.edges()]\n",
    "len(edges)\n",
    "len(nodes)"
   ],
   "id": "a2e29a03fe950c3f",
   "outputs": [
    {
     "data": {
      "text/plain": [
       "13"
      ]
     },
     "execution_count": 213,
     "metadata": {},
     "output_type": "execute_result"
    }
   ],
   "execution_count": 213
  },
  {
   "metadata": {
    "ExecuteTime": {
     "end_time": "2025-03-23T14:18:38.729797Z",
     "start_time": "2025-03-23T14:18:38.714832Z"
    }
   },
   "cell_type": "code",
   "source": [
    "state_map = {state: idx for idx, state in enumerate(nodes)}\n",
    "n = len(nodes)\n",
    "P = mc.SparseMatrix(n)\n",
    "if jani_data[\"type\"] == \"dtmc\":\n",
    "    P.set_type(mc.DISCRETE)\n",
    "for u, v, weight in edges:\n",
    "    P.setEntry(state_map[u], state_map[v], weight)\n",
    "\n",
    "print(P)"
   ],
   "id": "aff0151148b071fe",
   "outputs": [
    {
     "name": "stdout",
     "output_type": "stream",
     "text": [
      "[[0.000000e+00, 5.000000e-01, 5.000000e-01, 0.000000e+00, 0.000000e+00, 0.000000e+00, 0.000000e+00, 0.000000e+00, 0.000000e+00, 0.000000e+00, 0.000000e+00, 0.000000e+00, 0.000000e+00],\n",
      " [0.000000e+00, 0.000000e+00, 0.000000e+00, 5.000000e-01, 5.000000e-01, 0.000000e+00, 0.000000e+00, 0.000000e+00, 0.000000e+00, 0.000000e+00, 0.000000e+00, 0.000000e+00, 0.000000e+00],\n",
      " [0.000000e+00, 0.000000e+00, 0.000000e+00, 0.000000e+00, 0.000000e+00, 5.000000e-01, 5.000000e-01, 0.000000e+00, 0.000000e+00, 0.000000e+00, 0.000000e+00, 0.000000e+00, 0.000000e+00],\n",
      " [0.000000e+00, 5.000000e-01, 0.000000e+00, 0.000000e+00, 0.000000e+00, 0.000000e+00, 0.000000e+00, 5.000000e-01, 0.000000e+00, 0.000000e+00, 0.000000e+00, 0.000000e+00, 0.000000e+00],\n",
      " [0.000000e+00, 0.000000e+00, 0.000000e+00, 0.000000e+00, 0.000000e+00, 0.000000e+00, 0.000000e+00, 0.000000e+00, 5.000000e-01, 5.000000e-01, 0.000000e+00, 0.000000e+00, 0.000000e+00],\n",
      " [0.000000e+00, 0.000000e+00, 0.000000e+00, 0.000000e+00, 0.000000e+00, 0.000000e+00, 0.000000e+00, 0.000000e+00, 0.000000e+00, 0.000000e+00, 5.000000e-01, 5.000000e-01, 0.000000e+00],\n",
      " [0.000000e+00, 0.000000e+00, 5.000000e-01, 0.000000e+00, 0.000000e+00, 0.000000e+00, 0.000000e+00, 0.000000e+00, 0.000000e+00, 0.000000e+00, 0.000000e+00, 0.000000e+00, 5.000000e-01],\n",
      " [0.000000e+00, 0.000000e+00, 0.000000e+00, 0.000000e+00, 0.000000e+00, 0.000000e+00, 0.000000e+00, 1.000000e+00, 0.000000e+00, 0.000000e+00, 0.000000e+00, 0.000000e+00, 0.000000e+00],\n",
      " [0.000000e+00, 0.000000e+00, 0.000000e+00, 0.000000e+00, 0.000000e+00, 0.000000e+00, 0.000000e+00, 0.000000e+00, 1.000000e+00, 0.000000e+00, 0.000000e+00, 0.000000e+00, 0.000000e+00],\n",
      " [0.000000e+00, 0.000000e+00, 0.000000e+00, 0.000000e+00, 0.000000e+00, 0.000000e+00, 0.000000e+00, 0.000000e+00, 0.000000e+00, 1.000000e+00, 0.000000e+00, 0.000000e+00, 0.000000e+00],\n",
      " [0.000000e+00, 0.000000e+00, 0.000000e+00, 0.000000e+00, 0.000000e+00, 0.000000e+00, 0.000000e+00, 0.000000e+00, 0.000000e+00, 0.000000e+00, 1.000000e+00, 0.000000e+00, 0.000000e+00],\n",
      " [0.000000e+00, 0.000000e+00, 0.000000e+00, 0.000000e+00, 0.000000e+00, 0.000000e+00, 0.000000e+00, 0.000000e+00, 0.000000e+00, 0.000000e+00, 0.000000e+00, 1.000000e+00, 0.000000e+00],\n",
      " [0.000000e+00, 0.000000e+00, 0.000000e+00, 0.000000e+00, 0.000000e+00, 0.000000e+00, 0.000000e+00, 0.000000e+00, 0.000000e+00, 0.000000e+00, 0.000000e+00, 0.000000e+00, 1.000000e+00]]\n",
      "\n"
     ]
    }
   ],
   "execution_count": 214
  },
  {
   "metadata": {
    "ExecuteTime": {
     "end_time": "2025-03-23T14:18:38.776367Z",
     "start_time": "2025-03-23T14:18:38.768139Z"
    }
   },
   "cell_type": "code",
   "source": "P.getEntry(7,7)",
   "id": "f4a85b337782c9b1",
   "outputs": [
    {
     "data": {
      "text/plain": [
       "1.0"
      ]
     },
     "execution_count": 215,
     "metadata": {},
     "output_type": "execute_result"
    }
   ],
   "execution_count": 215
  },
  {
   "metadata": {},
   "cell_type": "markdown",
   "source": "",
   "id": "d284562fbb04d215"
  },
  {
   "metadata": {
    "ExecuteTime": {
     "end_time": "2025-03-23T14:18:38.821680Z",
     "start_time": "2025-03-23T14:18:38.814640Z"
    }
   },
   "cell_type": "code",
   "source": [
    "\n",
    "initial_prob = np.zeros(n)\n",
    "initState = []\n",
    "for variable in variables:\n",
    "    initState.append(variable['initial-value'])\n",
    "initial_prob[state_map[tuple(initState)]] = 1\n",
    "\n",
    "initial = mc.DiscreteDistribution(np.array(list(state_map.values())), initial_prob)\n",
    "print(initial)"
   ],
   "id": "81ad078808e42481",
   "outputs": [
    {
     "name": "stdout",
     "output_type": "stream",
     "text": [
      "Discrete distribution values { 0 1 2 3 4 5 6 7 8 9 10 11 12 } probas {        1        0        0        0        0        0        0        0        0        0        0        0        0 }\n"
     ]
    }
   ],
   "execution_count": 216
  },
  {
   "metadata": {
    "ExecuteTime": {
     "end_time": "2025-03-23T14:18:38.886423Z",
     "start_time": "2025-03-23T14:18:38.873518Z"
    }
   },
   "cell_type": "code",
   "source": [
    "c = mmc.MarkovChain(P)\n",
    "c.set_init_distribution(initial)\n",
    "c.set_model_name(jani_data[\"name\"])"
   ],
   "id": "94916e5187a268c3",
   "outputs": [],
   "execution_count": 217
  },
  {
   "metadata": {
    "ExecuteTime": {
     "end_time": "2025-03-23T14:18:38.927859Z",
     "start_time": "2025-03-23T14:18:38.918731Z"
    }
   },
   "cell_type": "code",
   "source": [
    "simRes = c.SimulateChainDT(20, stats = False, traj = True, trace = False)\n",
    "print(simRes.states())"
   ],
   "id": "7800e801cc4dc1dd",
   "outputs": [
    {
     "name": "stdout",
     "output_type": "stream",
     "text": [
      "[ 0  2  5 11 11 11 11 11 11 11 11 11 11 11 11 11 11 11 11 11 11]\n"
     ]
    }
   ],
   "execution_count": 218
  },
  {
   "metadata": {
    "ExecuteTime": {
     "end_time": "2025-03-23T14:18:38.969347Z",
     "start_time": "2025-03-23T14:18:38.963380Z"
    }
   },
   "cell_type": "code",
   "source": "print( c.generator().toString( mc.FORMAT_NUMPY ) )",
   "id": "ec62dd6126689e5f",
   "outputs": [
    {
     "name": "stdout",
     "output_type": "stream",
     "text": [
      "mc_matrix=np.array([\n",
      "[0, 0.5, 0.5, 0, 0, 0, 0, 0, 0, 0, 0, 0, 0],\n",
      "[0, 0, 0, 0.5, 0.5, 0, 0, 0, 0, 0, 0, 0, 0],\n",
      "[0, 0, 0, 0, 0, 0.5, 0.5, 0, 0, 0, 0, 0, 0],\n",
      "[0, 0.5, 0, 0, 0, 0, 0, 0.5, 0, 0, 0, 0, 0],\n",
      "[0, 0, 0, 0, 0, 0, 0, 0, 0.5, 0.5, 0, 0, 0],\n",
      "[0, 0, 0, 0, 0, 0, 0, 0, 0, 0, 0.5, 0.5, 0],\n",
      "[0, 0, 0.5, 0, 0, 0, 0, 0, 0, 0, 0, 0, 0.5],\n",
      "[0, 0, 0, 0, 0, 0, 0, 1, 0, 0, 0, 0, 0],\n",
      "[0, 0, 0, 0, 0, 0, 0, 0, 1, 0, 0, 0, 0],\n",
      "[0, 0, 0, 0, 0, 0, 0, 0, 0, 1, 0, 0, 0],\n",
      "[0, 0, 0, 0, 0, 0, 0, 0, 0, 0, 1, 0, 0],\n",
      "[0, 0, 0, 0, 0, 0, 0, 0, 0, 0, 0, 1, 0],\n",
      "[0, 0, 0, 0, 0, 0, 0, 0, 0, 0, 0, 0, 1]\n",
      "], dtype=float)\n",
      "\n"
     ]
    }
   ],
   "execution_count": 219
  },
  {
   "metadata": {
    "ExecuteTime": {
     "end_time": "2025-03-23T14:18:39.031729Z",
     "start_time": "2025-03-23T14:18:39.024316Z"
    }
   },
   "cell_type": "code",
   "source": [
    "pi3 = c.TransientDistributionDT(3)\n",
    "print(pi3)"
   ],
   "id": "462e5ec688b412fb",
   "outputs": [
    {
     "name": "stdout",
     "output_type": "stream",
     "text": [
      "Discrete distribution values { 0  1  2  3  4  5  6  7  8  9  10  11  12  } probas {        0    0.125    0.125        0        0        0        0    0.125    0.125    0.125    0.125    0.125    0.125 }\n"
     ]
    }
   ],
   "execution_count": 220
  },
  {
   "metadata": {
    "ExecuteTime": {
     "end_time": "2025-03-23T14:18:39.103585Z",
     "start_time": "2025-03-23T14:18:39.095807Z"
    }
   },
   "cell_type": "code",
   "source": [
    "pista = c.StationaryDistribution()\n",
    "print(pista)"
   ],
   "id": "2fb8d1176f1739ff",
   "outputs": [
    {
     "name": "stdout",
     "output_type": "stream",
     "text": [
      "Discrete distribution values { 0  1  2  3  4  5  6  7  8  9  10  11  12  } probas {        0 7.451e-09 7.451e-09        0        0        0        0   0.1667   0.1667   0.1667   0.1667   0.1667   0.1667 }\n"
     ]
    }
   ],
   "execution_count": 221
  },
  {
   "metadata": {
    "ExecuteTime": {
     "end_time": "2025-03-23T14:18:39.167986Z",
     "start_time": "2025-03-23T14:18:39.158133Z"
    }
   },
   "cell_type": "code",
   "source": [
    "c.set_init_distribution(pista)\n",
    "dis = c.TransientDistributionDT(1)\n",
    "print(\"Distance between pi and pi.P : \", mc.DiscreteDistribution.DistanceL1(pista, dis))"
   ],
   "id": "5704cb980fb96d3d",
   "outputs": [
    {
     "name": "stdout",
     "output_type": "stream",
     "text": [
      "Distance between pi and pi.P :  2.9802322387695312e-08\n"
     ]
    }
   ],
   "execution_count": 222
  },
  {
   "metadata": {
    "ExecuteTime": {
     "end_time": "2025-03-23T14:18:39.217991Z",
     "start_time": "2025-03-23T14:18:39.205103Z"
    }
   },
   "cell_type": "code",
   "source": [
    "pista2 = c.StationaryDistributionRLGL(100, 1e-10, mc.UniformDiscreteDistribution(0,2), False)\n",
    "mc.DiscreteDistribution.DistanceL1(pista, pista2)"
   ],
   "id": "eaeab0427e59d367",
   "outputs": [
    {
     "name": "stderr",
     "output_type": "stream",
     "text": [
      "Warning in MarkovChain::StationaryDistributionRLGL(): incorrect number of values for initial distribution (expected 13 <> 3 got).\n",
      "Uniform assumed.\n"
     ]
    },
    {
     "data": {
      "text/plain": [
       "2.9724712080611034e-08"
      ]
     },
     "execution_count": 223,
     "metadata": {},
     "output_type": "execute_result"
    }
   ],
   "execution_count": 223
  },
  {
   "metadata": {},
   "cell_type": "markdown",
   "source": "",
   "id": "77b0cafac6031656"
  },
  {
   "metadata": {
    "ExecuteTime": {
     "end_time": "2025-03-23T14:18:39.296647Z",
     "start_time": "2025-03-23T14:18:39.289919Z"
    }
   },
   "cell_type": "code",
   "source": "simRes = c.SimulateChainDT(10, stats = False, traj = True, trace = False)",
   "id": "f020ba54840592ee",
   "outputs": [],
   "execution_count": 224
  },
  {
   "metadata": {
    "ExecuteTime": {
     "end_time": "2025-03-23T14:18:39.449609Z",
     "start_time": "2025-03-23T14:18:39.439343Z"
    }
   },
   "cell_type": "code",
   "source": "simRes.Diagnose()",
   "id": "efe02e7f21be6d4f",
   "outputs": [
    {
     "name": "stdout",
     "output_type": "stream",
     "text": [
      "# Simulation result\n",
      "# Time type: discrete\n",
      "# Keeps a trajectory of size 11\n",
      "# DT trajectory size: 11\n",
      "# CT trajectory size: 0\n",
      "# Last state: 8\n",
      "# Last time:  10\n"
     ]
    }
   ],
   "execution_count": 225
  },
  {
   "metadata": {
    "ExecuteTime": {
     "end_time": "2025-03-23T14:18:39.506835Z",
     "start_time": "2025-03-23T14:18:39.498186Z"
    }
   },
   "cell_type": "code",
   "source": "print(simRes.states())",
   "id": "699fe61053c08085",
   "outputs": [
    {
     "name": "stdout",
     "output_type": "stream",
     "text": [
      "[8 8 8 8 8 8 8 8 8 8 8]\n"
     ]
    }
   ],
   "execution_count": 226
  },
  {
   "metadata": {
    "ExecuteTime": {
     "end_time": "2025-03-23T14:18:39.555990Z",
     "start_time": "2025-03-23T14:18:39.552524Z"
    }
   },
   "cell_type": "code",
   "source": "",
   "id": "82f44e6480f78a2b",
   "outputs": [],
   "execution_count": null
  }
 ],
 "metadata": {
  "kernelspec": {
   "display_name": "Python 3",
   "language": "python",
   "name": "python3"
  },
  "language_info": {
   "codemirror_mode": {
    "name": "ipython",
    "version": 2
   },
   "file_extension": ".py",
   "mimetype": "text/x-python",
   "name": "python",
   "nbconvert_exporter": "python",
   "pygments_lexer": "ipython2",
   "version": "2.7.6"
  }
 },
 "nbformat": 4,
 "nbformat_minor": 5
}
